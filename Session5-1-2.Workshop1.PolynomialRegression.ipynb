{
  "cells": [
    {
      "cell_type": "code",
      "execution_count": null,
      "metadata": {
        "colab": {
          "base_uri": "https://localhost:8080/"
        },
        "id": "ofUxFizvyA5Z",
        "outputId": "aa4ec873-2fbd-4e01-f54c-35047c154696"
      },
      "outputs": [],
      "source": [
        "%pip install gdown\n",
        "Position_Salaries dataset\n",
        "!gdown --id 1Zc40f0RFJoyeEYnxHg19mezsba89jTqP"
      ]
    },
    {
      "cell_type": "code",
      "execution_count": null,
      "metadata": {
        "id": "rnuWDXkReKk_"
      },
      "outputs": [],
      "source": [
        "# Step 1 - Load Data\n",
        "import pandas as pd\n",
        "dataset = pd.read_csv(\"Session04.Workshop1.Position_Salaries.csv\")\n",
        "X = dataset.iloc[:, 1:2].values\n",
        "y = dataset.iloc[:, 2].values"
      ]
    },
    {
      "cell_type": "code",
      "execution_count": 4,
      "metadata": {
        "colab": {
          "base_uri": "https://localhost:8080/"
        },
        "id": "g-wdJ9zbeSt-",
        "outputId": "50da1cb6-5f43-4e2d-fe47-09a65c0c1aa0"
      },
      "outputs": [
        {
          "data": {
            "text/plain": [
              "LinearRegression()"
            ]
          },
          "execution_count": 4,
          "metadata": {},
          "output_type": "execute_result"
        }
      ],
      "source": [
        "# Step 2 - Fitting Linear Regression\n",
        "from sklearn.linear_model import LinearRegression\n",
        "lin_reg = LinearRegression()\n",
        "lin_reg.fit(X,y)"
      ]
    },
    {
      "cell_type": "code",
      "execution_count": 5,
      "metadata": {
        "colab": {
          "base_uri": "https://localhost:8080/",
          "height": 295
        },
        "id": "acgeCOg_eUj2",
        "outputId": "2c7741e9-7854-4d7c-e85f-5412b12f1123"
      },
      "outputs": [
        {
          "data": {
            "image/png": "[encoded data removed]",
            "text/plain": [
              "<Figure size 432x288 with 1 Axes>"
            ]
          },
          "metadata": {
            "needs_background": "light"
          },
          "output_type": "display_data"
        }
      ],
      "source": [
        "# Step 3 - Visualize Linear Regression Results\n",
        "import matplotlib.pyplot as plt\n",
        "\n",
        "plt.scatter(X,y, color=\"red\")\n",
        "plt.plot(X, lin_reg.predict(X))\n",
        "plt.title(\"Linear Regression\")\n",
        "plt.xlabel(\"Level\")\n",
        "plt.ylabel(\"Salary\")\n",
        "plt.show()"
      ]
    },
    {
      "cell_type": "code",
      "execution_count": 6,
      "metadata": {
        "colab": {
          "base_uri": "https://localhost:8080/"
        },
        "id": "Uk6g0IHJeV-l",
        "outputId": "360e6fb5-65d5-4572-e711-5ac32eebf7ee"
      },
      "outputs": [
        {
          "data": {
            "text/plain": [
              "array([330378.78787879])"
            ]
          },
          "execution_count": 6,
          "metadata": {},
          "output_type": "execute_result"
        }
      ],
      "source": [
        "# Step 4 Linear Regression prediction\n",
        "lin_reg.predict([[6.5]])"
      ]
    },
    {
      "cell_type": "code",
      "execution_count": 7,
      "metadata": {
        "id": "u3Zv_XpNeXSK"
      },
      "outputs": [],
      "source": [
        "# Step 5 - Convert X to polynomial format\n",
        "from sklearn.preprocessing import PolynomialFeatures\n",
        "poly_reg = PolynomialFeatures(degree=4)\n",
        "X_poly = poly_reg.fit_transform(X)"
      ]
    },
    {
      "cell_type": "code",
      "execution_count": 8,
      "metadata": {
        "colab": {
          "base_uri": "https://localhost:8080/"
        },
        "id": "5-qJPzfjeYbA",
        "outputId": "d0cfa10c-61df-4ab8-f6f7-f1d3b62ced30"
      },
      "outputs": [
        {
          "data": {
            "text/plain": [
              "LinearRegression()"
            ]
          },
          "execution_count": 8,
          "metadata": {},
          "output_type": "execute_result"
        }
      ],
      "source": [
        "# Step 6 - Passing X_poly to LinearRegression\n",
        "lin_reg_2 = LinearRegression()\n",
        "lin_reg_2.fit(X_poly,y)"
      ]
    },
    {
      "cell_type": "code",
      "execution_count": 9,
      "metadata": {
        "colab": {
          "base_uri": "https://localhost:8080/",
          "height": 295
        },
        "id": "svOP8R6peZqE",
        "outputId": "0d9c0f8d-99c9-4116-d13a-e00fd51d7ba1"
      },
      "outputs": [
        {
          "data": {
            "image/png": "[encoded data removed]",
            "text/plain": [
              "<Figure size 432x288 with 1 Axes>"
            ]
          },
          "metadata": {
            "needs_background": "light"
          },
          "output_type": "display_data"
        }
      ],
      "source": [
        "# Step 7 - Visualize Poly Regression Results\n",
        "plt.scatter(X,y, color=\"red\")\n",
        "plt.plot(X, lin_reg_2.predict(poly_reg.fit_transform(X)))\n",
        "plt.title(\"Poly Regression - Degree 4\")\n",
        "plt.xlabel(\"Level\")\n",
        "plt.ylabel(\"Salary\")\n",
        "plt.show()\n"
      ]
    },
    {
      "cell_type": "code",
      "execution_count": null,
      "metadata": {
        "colab": {
          "base_uri": "https://localhost:8080/"
        },
        "id": "g4-70Sm6eayO",
        "outputId": "21e901f9-04e1-4cb0-9169-49b8e68c7c44"
      },
      "outputs": [
        {
          "name": "stdout",
          "output_type": "stream",
          "text": [
            "The predicted salary of a person at 6.5 Level is  [158862.45265155]\n"
          ]
        }
      ],
      "source": [
        "# Step 8 Polynomial Regression prediction\n",
        "new_salary_pred = lin_reg_2.predict(poly_reg.fit_transform([[6.5]]))\n",
        "print('The predicted salary of a person at 6.5 Level is ',new_salary_pred)\n"
      ]
    }
  ],
  "metadata": {
    "colab": {
      "name": "W01.PloynomialRegression.ipynb",
      "provenance": []
    },
    "kernelspec": {
      "display_name": "Python 3.9.12 ('base')",
      "language": "python",
      "name": "python3"
    },
    "language_info": {
      "name": "python",
      "version": "3.9.12"
    },
    "vscode": {
      "interpreter": {
        "hash": "910b85ef1bbfade0bcd650dab6621c5db4e225a293fa25f6b497d49efafd687a"
      }
    }
  },
  "nbformat": 4,
  "nbformat_minor": 0
}
